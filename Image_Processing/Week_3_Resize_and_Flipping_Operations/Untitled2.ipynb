{
 "cells": [
  {
   "cell_type": "code",
   "execution_count": 27,
   "id": "76a09450-6446-4b09-bc05-eebb8020a04d",
   "metadata": {},
   "outputs": [],
   "source": [
    "import cv2\n",
    "import numpy as np"
   ]
  },
  {
   "cell_type": "code",
   "execution_count": 29,
   "id": "3a86d8b6-6ce5-4160-82da-50a125617119",
   "metadata": {},
   "outputs": [
    {
     "data": {
      "text/plain": [
       "(165, 306, 3)"
      ]
     },
     "execution_count": 29,
     "metadata": {},
     "output_type": "execute_result"
    }
   ],
   "source": [
    "my_img = cv2.imread(\"./kartal.jpg\",1)\n",
    "my_img.shape"
   ]
  },
  {
   "cell_type": "code",
   "execution_count": 31,
   "id": "5228ad39-1b51-46b1-912e-5e4a1cc78a2f",
   "metadata": {},
   "outputs": [],
   "source": [
    "cv2.imshow(\"RGB Image\",my_img)\n",
    "cv2.waitKey(0)\n",
    "cv2.destroyAllWindows()"
   ]
  },
  {
   "cell_type": "code",
   "execution_count": 33,
   "id": "268ac057-e397-4b4a-8f74-ac49f436f9b4",
   "metadata": {},
   "outputs": [],
   "source": [
    "#Flipping (döndürme işlemleri)\n",
    "#Flippimg, bir görüntüyü dikey, yatay ve hem dikey hem de yatay olarak 180 derce döndürmeye yarar\n",
    "vertical_img = cv2.flip(my_img,0)\n",
    "horizontal_img = cv2.flip(my_img,1)\n",
    "both_img = cv2.flip(my_img,-1)"
   ]
  },
  {
   "cell_type": "code",
   "execution_count": 35,
   "id": "aebdcb17-9f56-4eef-a2bf-8c0d1a4dfc00",
   "metadata": {},
   "outputs": [],
   "source": [
    "cv2.imshow(\"Original Image\",my_img)\n",
    "cv2.imshow(\"Vertical Image\",vertical_img)\n",
    "cv2.imshow(\"Horizontal Image\",horizontal_img)\n",
    "cv2.imshow(\"Vertical and Horizontal Image\",both_img)\n",
    "cv2.waitKey(0)\n",
    "cv2.destroyAllWindows()"
   ]
  },
  {
   "cell_type": "code",
   "execution_count": 37,
   "id": "bc11ed34-eccd-4723-86be-27beafd04210",
   "metadata": {},
   "outputs": [],
   "source": [
    "new_vertical_img = my_img[::-1,:,:]\n",
    "new_horizontal_img = my_img[:,::-1,:]\n",
    "new_both_img = my_img[::-1,::-1,:]"
   ]
  },
  {
   "cell_type": "code",
   "execution_count": 39,
   "id": "fc75e2de-19cd-4d66-9b01-30580070fd2b",
   "metadata": {},
   "outputs": [],
   "source": [
    "cv2.imshow(\"Original Image\",my_img)\n",
    "cv2.imshow(\"Vertical Image\",new_vertical_img)\n",
    "cv2.imshow(\"Horizontal Image\",new_horizontal_img)\n",
    "cv2.imshow(\"Vertical and Horizontal Image\",new_both_img)\n",
    "cv2.waitKey(0)\n",
    "cv2.destroyAllWindows()"
   ]
  },
  {
   "cell_type": "code",
   "execution_count": 53,
   "id": "ed6f1d98-c330-4cc5-80fd-c16767d48f3e",
   "metadata": {},
   "outputs": [],
   "source": [
    "my_resized_img = cv2.resize(my_img,(700,300),cv2.INTER_LANCZOS4)\n",
    "cv2.imshow(\"Original Image\",my_img)\n",
    "cv2.imshow(\"Resized Image\",my_resized_img)\n",
    "cv2.waitKey(0)\n",
    "cv2.destroyAllWindows()"
   ]
  },
  {
   "cell_type": "code",
   "execution_count": 55,
   "id": "015897f1-0232-4b34-8f18-5d7c1e708384",
   "metadata": {},
   "outputs": [
    {
     "data": {
      "text/plain": [
       "True"
      ]
     },
     "execution_count": 55,
     "metadata": {},
     "output_type": "execute_result"
    }
   ],
   "source": [
    "cv2.imwrite(\"./resized_image_output.png\",my_resize)"
   ]
  },
  {
   "cell_type": "code",
   "execution_count": null,
   "id": "e2870630-3757-46d1-88b8-793a922940f6",
   "metadata": {},
   "outputs": [],
   "source": []
  }
 ],
 "metadata": {
  "kernelspec": {
   "display_name": "env_ybs",
   "language": "python",
   "name": "env_ybs"
  },
  "language_info": {
   "codemirror_mode": {
    "name": "ipython",
    "version": 3
   },
   "file_extension": ".py",
   "mimetype": "text/x-python",
   "name": "python",
   "nbconvert_exporter": "python",
   "pygments_lexer": "ipython3",
   "version": "3.10.10"
  }
 },
 "nbformat": 4,
 "nbformat_minor": 5
}
